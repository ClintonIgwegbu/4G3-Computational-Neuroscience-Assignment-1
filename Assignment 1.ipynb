{
  "cells": [
    {
      "metadata": {
        "trusted": true
      },
      "cell_type": "code",
      "source": "Vth = 1  # spiking threshold\ndt = 0.1e-3  # integration time step - s\nT = 20e-3  # membrane time constant - s\nN = 1000  # number of neurons in each population\nK = 100  # nmber of presynaptic partners (per neuron) from each population\nrX = 10  # firing rate of the Poisson neurons in population X",
      "execution_count": 14,
      "outputs": []
    },
    {
      "metadata": {},
      "cell_type": "markdown",
      "source": "### 1. Generating Poisson spike trains"
    },
    {
      "metadata": {
        "trusted": true
      },
      "cell_type": "code",
      "source": "import numpy as np\nfrom numpy.random import binomial\nimport matplotlib.pyplot as plot\n\nx_activity = 1/dt * binomial(1, rX * dt, (N, int(2/dt)))\nplot.eventplot(x_activity)",
      "execution_count": null,
      "outputs": [
        {
          "output_type": "stream",
          "text": "/home/nbuser/anaconda3_501/lib/python3.6/site-packages/matplotlib/font_manager.py:229: UserWarning: Matplotlib is building the font cache using fc-list. This may take a moment.\n  'Matplotlib is building the font cache using fc-list. '\n",
          "name": "stderr"
        }
      ]
    },
    {
      "metadata": {
        "trusted": true
      },
      "cell_type": "code",
      "source": "# Sanity check: average number of spikes fired by each neuron should be about 2 * rX\nprint(\"Average number of spikes fired by each neuron is \", np.average(np.sum(xActivity, 1)))",
      "execution_count": null,
      "outputs": []
    },
    {
      "metadata": {},
      "cell_type": "markdown",
      "source": "### 2. Single LIF neuron with one input spike train"
    },
    {
      "metadata": {
        "trusted": true
      },
      "cell_type": "code",
      "source": "w = 0.9  # Synaptic weight\nSj = x_activity[0,:]  # one Poisson neuron's activity\nV = np.zeros(1, int(2/dt))\n# Obtin V through forward Euler integration: if an action potential was fired at time k-1, then set V(k-1) to 0 for the calculation of V(k)\nV = [V[k-1] + dt * (-V[k-1]/T + w * Sj[k-1]) for k in range(1, len(V)) if V[k-1] <= Vth else dt * (w * Sj[k-1])]\nSi = [1 for k in range(1, len(V)) if V(k) > Vth else 0]\nplot.eventplot(V)\nplot.eventplot(Sj)\nplot.eventplot(Si)",
      "execution_count": null,
      "outputs": []
    },
    {
      "metadata": {},
      "cell_type": "markdown",
      "source": "### 3. Single LIF neuron with many input spike trains"
    },
    {
      "metadata": {
        "trusted": true
      },
      "cell_type": "code",
      "source": "# (a)\nS = np.sum(x_activity(0:K-1,:), 0)  # activity of K independent Poisson neurons\nw = 1\nV = [V[k-1] + dt * (-V[k-1]/T + w / K * S(k-1)) for k in range(1, len(V))]  # spike-and-reset mechanism has been disabled\nplot.eventplot(V)",
      "execution_count": null,
      "outputs": []
    },
    {
      "metadata": {
        "trusted": true
      },
      "cell_type": "code",
      "source": "# (b)\nm_h = w * rX\nvar_h = w**2 * rX / K\nm_V = m_h * T\nvar_V = 0",
      "execution_count": null,
      "outputs": []
    },
    {
      "metadata": {},
      "cell_type": "markdown",
      "source": "Derivations of quantities in (b)\n\n$\nE(h) = \\frac{w}{K} * E(\\sum_{i=1}^K S_j) = \\frac{w}{K} * \\sum_{i=1}^K E(S_j) = \\frac{w}{K} * K * r_X = w * r_X \n$\n\n$\nVar(h) = \\frac{w}{K}^2 * Var(\\sum_{i=1}^K S_j) = \\frac{w}{K}^2 * \\sum_{i=1}^K Var(S_j) = \\frac{w}{K}^2 * K * r_X = \\frac{w^2 * r_X}{K}\n$\n\nDerivations for V are given in photo on phone"
    },
    {
      "metadata": {
        "trusted": true
      },
      "cell_type": "code",
      "source": "# (c)\nplot([0:1000], m_h)  # plot m_V as a function of K\nplot([0:1000], var_V)  # plot var_V as a function of K\n",
      "execution_count": null,
      "outputs": []
    },
    {
      "metadata": {
        "trusted": true
      },
      "cell_type": "code",
      "source": "# (d)",
      "execution_count": null,
      "outputs": []
    },
    {
      "metadata": {
        "trusted": true
      },
      "cell_type": "code",
      "source": "# (e)",
      "execution_count": null,
      "outputs": []
    },
    {
      "metadata": {},
      "cell_type": "markdown",
      "source": "### 4. Single LIF neuron with many E and I Poisson inputs"
    },
    {
      "metadata": {
        "trusted": true
      },
      "cell_type": "code",
      "source": "",
      "execution_count": null,
      "outputs": []
    },
    {
      "metadata": {},
      "cell_type": "markdown",
      "source": "### 5. Full network"
    },
    {
      "metadata": {
        "trusted": true
      },
      "cell_type": "code",
      "source": "# synpatic weight parameters\nJee = -1\nJie = 1\nJei = -2\nJii = -1.8\nJex = 1\nJix = 0.8",
      "execution_count": null,
      "outputs": []
    }
  ],
  "metadata": {
    "kernelspec": {
      "name": "python36",
      "display_name": "Python 3.6",
      "language": "python"
    },
    "language_info": {
      "mimetype": "text/x-python",
      "nbconvert_exporter": "python",
      "name": "python",
      "pygments_lexer": "ipython3",
      "version": "3.6.6",
      "file_extension": ".py",
      "codemirror_mode": {
        "version": 3,
        "name": "ipython"
      }
    }
  },
  "nbformat": 4,
  "nbformat_minor": 2
}